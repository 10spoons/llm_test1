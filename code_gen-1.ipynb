{
 "cells": [
  {
   "cell_type": "markdown",
   "metadata": {},
   "source": [
    "# LLM을 프로그램 코드 생성에 활용하는 것 연습\n",
    "\n",
    "LCEL(LangChain Expression Langague) 문서 중 Cookbook의 Code writing 부분을 참조하였음\n",
    "&rarr; https://python.langchain.com/docs/expression_language/cookbook/code_writing"
   ]
  },
  {
   "cell_type": "code",
   "execution_count": 1,
   "metadata": {},
   "outputs": [
    {
     "name": "stdout",
     "output_type": "stream",
     "text": [
      "Note: you may need to restart the kernel to use updated packages.\n"
     ]
    }
   ],
   "source": [
    "%pip install -q langchain-experimental "
   ]
  },
  {
   "cell_type": "code",
   "execution_count": 2,
   "metadata": {},
   "outputs": [],
   "source": [
    "from langchain_core.output_parsers import StrOutputParser\n",
    "from langchain_core.prompts import (\n",
    "    ChatPromptTemplate,\n",
    ")\n",
    "from langchain_experimental.utilities import PythonREPL\n",
    "from langchain_community.chat_models import ChatOllama\n",
    "from langchain_community.llms import Ollama\n",
    "from IPython.display import display, Markdown, Code, Pretty\n"
   ]
  },
  {
   "cell_type": "code",
   "execution_count": 3,
   "metadata": {},
   "outputs": [],
   "source": [
    "def _sanitize_output(text: str):\n",
    "    try:\n",
    "        _, after = text.split(\"```python\")\n",
    "    except:\n",
    "        return ''\n",
    "    return after.split(\"```\")[0]"
   ]
  },
  {
   "cell_type": "code",
   "execution_count": 4,
   "metadata": {},
   "outputs": [],
   "source": [
    "template = \"\"\"\n",
    "Write some python code to solve the user's problem. \n",
    "Use numpy.mean and numpy.std to calculate average and standard deviation of an array. \n",
    "Avoid importing descriptive_statistics from scipy.stats.\n",
    "\n",
    "Return only python code in Markdown format, e.g.:\n",
    "\n",
    "```python\n",
    "....\n",
    "```\n",
    "\"\"\"\n",
    "prompt = ChatPromptTemplate.from_messages([(\"system\", template), (\"human\", \"{input}\")])\n",
    "\n",
    "# model = ChatOpenAI()\n",
    "# model = ChatOllama(model=\"stable-code\")\n",
    "# model = ChatOllama(model=\"dolphin-mistral\")\n",
    "model = ChatOllama(model=\"codellama\")\n"
   ]
  },
  {
   "cell_type": "code",
   "execution_count": 5,
   "metadata": {},
   "outputs": [],
   "source": [
    "# chain = prompt | model | StrOutputParser() | _sanitize_output | PythonREPL().run\n",
    "chain = prompt | model | StrOutputParser() | _sanitize_output"
   ]
  },
  {
   "cell_type": "code",
   "execution_count": 6,
   "metadata": {},
   "outputs": [
    {
     "name": "stdout",
     "output_type": "stream",
     "text": [
      "[3 2 5 5 8 8 7 0 3 5]\n"
     ]
    }
   ],
   "source": [
    "# 가끔 아무 코드가 안 나올때가 있음. 강제로 10번 반복.\n",
    "for i in range(10):\n",
    "    code = chain.invoke({\"input\": \"print out 10 random numbers ranged from 10 to 20\"})\n",
    "    # code = chain.invoke({\"input\": \"what is 2 plus 2\"})\n",
    "    # code = chain.invoke({\"input\": \"print all possible combinations of items in [1, 2, 3]\"})\n",
    "    if len(code) > 0:\n",
    "        try:\n",
    "            exec(code)\n",
    "        except:\n",
    "            pass\n",
    "        break"
   ]
  },
  {
   "cell_type": "code",
   "execution_count": 7,
   "metadata": {},
   "outputs": [
    {
     "data": {
      "text/html": [
       "<style>pre { line-height: 125%; }\n",
       "td.linenos .normal { color: inherit; background-color: transparent; padding-left: 5px; padding-right: 5px; }\n",
       "span.linenos { color: inherit; background-color: transparent; padding-left: 5px; padding-right: 5px; }\n",
       "td.linenos .special { color: #000000; background-color: #ffffc0; padding-left: 5px; padding-right: 5px; }\n",
       "span.linenos.special { color: #000000; background-color: #ffffc0; padding-left: 5px; padding-right: 5px; }\n",
       ".output_html .hll { background-color: #ffffcc }\n",
       ".output_html { background: #f8f8f8; }\n",
       ".output_html .c { color: #3D7B7B; font-style: italic } /* Comment */\n",
       ".output_html .err { border: 1px solid #FF0000 } /* Error */\n",
       ".output_html .k { color: #008000; font-weight: bold } /* Keyword */\n",
       ".output_html .o { color: #666666 } /* Operator */\n",
       ".output_html .ch { color: #3D7B7B; font-style: italic } /* Comment.Hashbang */\n",
       ".output_html .cm { color: #3D7B7B; font-style: italic } /* Comment.Multiline */\n",
       ".output_html .cp { color: #9C6500 } /* Comment.Preproc */\n",
       ".output_html .cpf { color: #3D7B7B; font-style: italic } /* Comment.PreprocFile */\n",
       ".output_html .c1 { color: #3D7B7B; font-style: italic } /* Comment.Single */\n",
       ".output_html .cs { color: #3D7B7B; font-style: italic } /* Comment.Special */\n",
       ".output_html .gd { color: #A00000 } /* Generic.Deleted */\n",
       ".output_html .ge { font-style: italic } /* Generic.Emph */\n",
       ".output_html .ges { font-weight: bold; font-style: italic } /* Generic.EmphStrong */\n",
       ".output_html .gr { color: #E40000 } /* Generic.Error */\n",
       ".output_html .gh { color: #000080; font-weight: bold } /* Generic.Heading */\n",
       ".output_html .gi { color: #008400 } /* Generic.Inserted */\n",
       ".output_html .go { color: #717171 } /* Generic.Output */\n",
       ".output_html .gp { color: #000080; font-weight: bold } /* Generic.Prompt */\n",
       ".output_html .gs { font-weight: bold } /* Generic.Strong */\n",
       ".output_html .gu { color: #800080; font-weight: bold } /* Generic.Subheading */\n",
       ".output_html .gt { color: #0044DD } /* Generic.Traceback */\n",
       ".output_html .kc { color: #008000; font-weight: bold } /* Keyword.Constant */\n",
       ".output_html .kd { color: #008000; font-weight: bold } /* Keyword.Declaration */\n",
       ".output_html .kn { color: #008000; font-weight: bold } /* Keyword.Namespace */\n",
       ".output_html .kp { color: #008000 } /* Keyword.Pseudo */\n",
       ".output_html .kr { color: #008000; font-weight: bold } /* Keyword.Reserved */\n",
       ".output_html .kt { color: #B00040 } /* Keyword.Type */\n",
       ".output_html .m { color: #666666 } /* Literal.Number */\n",
       ".output_html .s { color: #BA2121 } /* Literal.String */\n",
       ".output_html .na { color: #687822 } /* Name.Attribute */\n",
       ".output_html .nb { color: #008000 } /* Name.Builtin */\n",
       ".output_html .nc { color: #0000FF; font-weight: bold } /* Name.Class */\n",
       ".output_html .no { color: #880000 } /* Name.Constant */\n",
       ".output_html .nd { color: #AA22FF } /* Name.Decorator */\n",
       ".output_html .ni { color: #717171; font-weight: bold } /* Name.Entity */\n",
       ".output_html .ne { color: #CB3F38; font-weight: bold } /* Name.Exception */\n",
       ".output_html .nf { color: #0000FF } /* Name.Function */\n",
       ".output_html .nl { color: #767600 } /* Name.Label */\n",
       ".output_html .nn { color: #0000FF; font-weight: bold } /* Name.Namespace */\n",
       ".output_html .nt { color: #008000; font-weight: bold } /* Name.Tag */\n",
       ".output_html .nv { color: #19177C } /* Name.Variable */\n",
       ".output_html .ow { color: #AA22FF; font-weight: bold } /* Operator.Word */\n",
       ".output_html .w { color: #bbbbbb } /* Text.Whitespace */\n",
       ".output_html .mb { color: #666666 } /* Literal.Number.Bin */\n",
       ".output_html .mf { color: #666666 } /* Literal.Number.Float */\n",
       ".output_html .mh { color: #666666 } /* Literal.Number.Hex */\n",
       ".output_html .mi { color: #666666 } /* Literal.Number.Integer */\n",
       ".output_html .mo { color: #666666 } /* Literal.Number.Oct */\n",
       ".output_html .sa { color: #BA2121 } /* Literal.String.Affix */\n",
       ".output_html .sb { color: #BA2121 } /* Literal.String.Backtick */\n",
       ".output_html .sc { color: #BA2121 } /* Literal.String.Char */\n",
       ".output_html .dl { color: #BA2121 } /* Literal.String.Delimiter */\n",
       ".output_html .sd { color: #BA2121; font-style: italic } /* Literal.String.Doc */\n",
       ".output_html .s2 { color: #BA2121 } /* Literal.String.Double */\n",
       ".output_html .se { color: #AA5D1F; font-weight: bold } /* Literal.String.Escape */\n",
       ".output_html .sh { color: #BA2121 } /* Literal.String.Heredoc */\n",
       ".output_html .si { color: #A45A77; font-weight: bold } /* Literal.String.Interpol */\n",
       ".output_html .sx { color: #008000 } /* Literal.String.Other */\n",
       ".output_html .sr { color: #A45A77 } /* Literal.String.Regex */\n",
       ".output_html .s1 { color: #BA2121 } /* Literal.String.Single */\n",
       ".output_html .ss { color: #19177C } /* Literal.String.Symbol */\n",
       ".output_html .bp { color: #008000 } /* Name.Builtin.Pseudo */\n",
       ".output_html .fm { color: #0000FF } /* Name.Function.Magic */\n",
       ".output_html .vc { color: #19177C } /* Name.Variable.Class */\n",
       ".output_html .vg { color: #19177C } /* Name.Variable.Global */\n",
       ".output_html .vi { color: #19177C } /* Name.Variable.Instance */\n",
       ".output_html .vm { color: #19177C } /* Name.Variable.Magic */\n",
       ".output_html .il { color: #666666 } /* Literal.Number.Integer.Long */</style><div class=\"highlight\"><pre><span></span><span class=\"kn\">import</span> <span class=\"nn\">numpy</span> <span class=\"k\">as</span> <span class=\"nn\">np</span>\n",
       "\n",
       "<span class=\"c1\"># Generate 10 random numbers between 10 and 20</span>\n",
       "<span class=\"n\">numbers</span> <span class=\"o\">=</span> <span class=\"n\">np</span><span class=\"o\">.</span><span class=\"n\">random</span><span class=\"o\">.</span><span class=\"kp\">randint</span><span class=\"p\">(</span><span class=\"mi\">10</span><span class=\"p\">,</span> <span class=\"kp\">size</span><span class=\"o\">=</span><span class=\"mi\">10</span><span class=\"p\">)</span>\n",
       "\n",
       "<span class=\"nb\">print</span><span class=\"p\">(</span><span class=\"n\">numbers</span><span class=\"p\">)</span>\n",
       "</pre></div>\n"
      ],
      "text/latex": [
       "\\begin{Verbatim}[commandchars=\\\\\\{\\}]\n",
       "\\PY{k+kn}{import} \\PY{n+nn}{numpy} \\PY{k}{as} \\PY{n+nn}{np}\n",
       "\n",
       "\\PY{c+c1}{\\PYZsh{} Generate 10 random numbers between 10 and 20}\n",
       "\\PY{n}{numbers} \\PY{o}{=} \\PY{n}{np}\\PY{o}{.}\\PY{n}{random}\\PY{o}{.}\\PY{k+kp}{randint}\\PY{p}{(}\\PY{l+m+mi}{10}\\PY{p}{,} \\PY{k+kp}{size}\\PY{o}{=}\\PY{l+m+mi}{10}\\PY{p}{)}\n",
       "\n",
       "\\PY{n+nb}{print}\\PY{p}{(}\\PY{n}{numbers}\\PY{p}{)}\n",
       "\\end{Verbatim}\n"
      ],
      "text/plain": [
       "\n",
       "import numpy as np\n",
       "\n",
       "# Generate 10 random numbers between 10 and 20\n",
       "numbers = np.random.randint(10, size=10)\n",
       "\n",
       "print(numbers)"
      ]
     },
     "metadata": {},
     "output_type": "display_data"
    }
   ],
   "source": [
    "display(Code(code))"
   ]
  },
  {
   "cell_type": "code",
   "execution_count": 8,
   "metadata": {},
   "outputs": [
    {
     "name": "stdout",
     "output_type": "stream",
     "text": [
      "Average: 146.01\n",
      "Standard Deviation: 9.572350808448256\n"
     ]
    }
   ],
   "source": [
    "# 좀 더 복잡한 것도 시켜보자.\n",
    "for i in range(10):\n",
    "    code = chain.invoke({\"input\": \"generate 100 batches of 10 random numbers ranged from 10 to 20 and calculate sum of each batch and print average and standard deviation of sums\"})\n",
    "    if len(code) > 0:\n",
    "        try:\n",
    "            exec(code)\n",
    "        except:\n",
    "            pass\n",
    "        break"
   ]
  },
  {
   "cell_type": "code",
   "execution_count": 9,
   "metadata": {},
   "outputs": [
    {
     "data": {
      "text/plain": [
       "'\\nimport numpy as np\\n\\n# generate 100 batches of 10 random numbers ranged from 10 to 20\\nrandom_numbers = np.random.randint(10, 20, size=(100, 10))\\n\\n# calculate sum of each batch\\nbatch_sums = random_numbers.sum(axis=1)\\n\\n# calculate average and standard deviation of sums\\naverage = batch_sums.mean()\\nstd_dev = batch_sums.std()\\n\\nprint(\"Average:\", average)\\nprint(\"Standard Deviation:\", std_dev)\\n'"
      ]
     },
     "execution_count": 9,
     "metadata": {},
     "output_type": "execute_result"
    }
   ],
   "source": [
    "code"
   ]
  },
  {
   "cell_type": "code",
   "execution_count": 10,
   "metadata": {},
   "outputs": [
    {
     "data": {
      "text/html": [
       "<style>pre { line-height: 125%; }\n",
       "td.linenos .normal { color: inherit; background-color: transparent; padding-left: 5px; padding-right: 5px; }\n",
       "span.linenos { color: inherit; background-color: transparent; padding-left: 5px; padding-right: 5px; }\n",
       "td.linenos .special { color: #000000; background-color: #ffffc0; padding-left: 5px; padding-right: 5px; }\n",
       "span.linenos.special { color: #000000; background-color: #ffffc0; padding-left: 5px; padding-right: 5px; }\n",
       ".output_html .hll { background-color: #ffffcc }\n",
       ".output_html { background: #f8f8f8; }\n",
       ".output_html .c { color: #3D7B7B; font-style: italic } /* Comment */\n",
       ".output_html .err { border: 1px solid #FF0000 } /* Error */\n",
       ".output_html .k { color: #008000; font-weight: bold } /* Keyword */\n",
       ".output_html .o { color: #666666 } /* Operator */\n",
       ".output_html .ch { color: #3D7B7B; font-style: italic } /* Comment.Hashbang */\n",
       ".output_html .cm { color: #3D7B7B; font-style: italic } /* Comment.Multiline */\n",
       ".output_html .cp { color: #9C6500 } /* Comment.Preproc */\n",
       ".output_html .cpf { color: #3D7B7B; font-style: italic } /* Comment.PreprocFile */\n",
       ".output_html .c1 { color: #3D7B7B; font-style: italic } /* Comment.Single */\n",
       ".output_html .cs { color: #3D7B7B; font-style: italic } /* Comment.Special */\n",
       ".output_html .gd { color: #A00000 } /* Generic.Deleted */\n",
       ".output_html .ge { font-style: italic } /* Generic.Emph */\n",
       ".output_html .ges { font-weight: bold; font-style: italic } /* Generic.EmphStrong */\n",
       ".output_html .gr { color: #E40000 } /* Generic.Error */\n",
       ".output_html .gh { color: #000080; font-weight: bold } /* Generic.Heading */\n",
       ".output_html .gi { color: #008400 } /* Generic.Inserted */\n",
       ".output_html .go { color: #717171 } /* Generic.Output */\n",
       ".output_html .gp { color: #000080; font-weight: bold } /* Generic.Prompt */\n",
       ".output_html .gs { font-weight: bold } /* Generic.Strong */\n",
       ".output_html .gu { color: #800080; font-weight: bold } /* Generic.Subheading */\n",
       ".output_html .gt { color: #0044DD } /* Generic.Traceback */\n",
       ".output_html .kc { color: #008000; font-weight: bold } /* Keyword.Constant */\n",
       ".output_html .kd { color: #008000; font-weight: bold } /* Keyword.Declaration */\n",
       ".output_html .kn { color: #008000; font-weight: bold } /* Keyword.Namespace */\n",
       ".output_html .kp { color: #008000 } /* Keyword.Pseudo */\n",
       ".output_html .kr { color: #008000; font-weight: bold } /* Keyword.Reserved */\n",
       ".output_html .kt { color: #B00040 } /* Keyword.Type */\n",
       ".output_html .m { color: #666666 } /* Literal.Number */\n",
       ".output_html .s { color: #BA2121 } /* Literal.String */\n",
       ".output_html .na { color: #687822 } /* Name.Attribute */\n",
       ".output_html .nb { color: #008000 } /* Name.Builtin */\n",
       ".output_html .nc { color: #0000FF; font-weight: bold } /* Name.Class */\n",
       ".output_html .no { color: #880000 } /* Name.Constant */\n",
       ".output_html .nd { color: #AA22FF } /* Name.Decorator */\n",
       ".output_html .ni { color: #717171; font-weight: bold } /* Name.Entity */\n",
       ".output_html .ne { color: #CB3F38; font-weight: bold } /* Name.Exception */\n",
       ".output_html .nf { color: #0000FF } /* Name.Function */\n",
       ".output_html .nl { color: #767600 } /* Name.Label */\n",
       ".output_html .nn { color: #0000FF; font-weight: bold } /* Name.Namespace */\n",
       ".output_html .nt { color: #008000; font-weight: bold } /* Name.Tag */\n",
       ".output_html .nv { color: #19177C } /* Name.Variable */\n",
       ".output_html .ow { color: #AA22FF; font-weight: bold } /* Operator.Word */\n",
       ".output_html .w { color: #bbbbbb } /* Text.Whitespace */\n",
       ".output_html .mb { color: #666666 } /* Literal.Number.Bin */\n",
       ".output_html .mf { color: #666666 } /* Literal.Number.Float */\n",
       ".output_html .mh { color: #666666 } /* Literal.Number.Hex */\n",
       ".output_html .mi { color: #666666 } /* Literal.Number.Integer */\n",
       ".output_html .mo { color: #666666 } /* Literal.Number.Oct */\n",
       ".output_html .sa { color: #BA2121 } /* Literal.String.Affix */\n",
       ".output_html .sb { color: #BA2121 } /* Literal.String.Backtick */\n",
       ".output_html .sc { color: #BA2121 } /* Literal.String.Char */\n",
       ".output_html .dl { color: #BA2121 } /* Literal.String.Delimiter */\n",
       ".output_html .sd { color: #BA2121; font-style: italic } /* Literal.String.Doc */\n",
       ".output_html .s2 { color: #BA2121 } /* Literal.String.Double */\n",
       ".output_html .se { color: #AA5D1F; font-weight: bold } /* Literal.String.Escape */\n",
       ".output_html .sh { color: #BA2121 } /* Literal.String.Heredoc */\n",
       ".output_html .si { color: #A45A77; font-weight: bold } /* Literal.String.Interpol */\n",
       ".output_html .sx { color: #008000 } /* Literal.String.Other */\n",
       ".output_html .sr { color: #A45A77 } /* Literal.String.Regex */\n",
       ".output_html .s1 { color: #BA2121 } /* Literal.String.Single */\n",
       ".output_html .ss { color: #19177C } /* Literal.String.Symbol */\n",
       ".output_html .bp { color: #008000 } /* Name.Builtin.Pseudo */\n",
       ".output_html .fm { color: #0000FF } /* Name.Function.Magic */\n",
       ".output_html .vc { color: #19177C } /* Name.Variable.Class */\n",
       ".output_html .vg { color: #19177C } /* Name.Variable.Global */\n",
       ".output_html .vi { color: #19177C } /* Name.Variable.Instance */\n",
       ".output_html .vm { color: #19177C } /* Name.Variable.Magic */\n",
       ".output_html .il { color: #666666 } /* Literal.Number.Integer.Long */</style><div class=\"highlight\"><pre><span></span><span class=\"kn\">import</span> <span class=\"nn\">numpy</span> <span class=\"k\">as</span> <span class=\"nn\">np</span>\n",
       "\n",
       "<span class=\"c1\"># generate 100 batches of 10 random numbers ranged from 10 to 20</span>\n",
       "<span class=\"n\">random_numbers</span> <span class=\"o\">=</span> <span class=\"n\">np</span><span class=\"o\">.</span><span class=\"n\">random</span><span class=\"o\">.</span><span class=\"kp\">randint</span><span class=\"p\">(</span><span class=\"mi\">10</span><span class=\"p\">,</span> <span class=\"mi\">20</span><span class=\"p\">,</span> <span class=\"kp\">size</span><span class=\"o\">=</span><span class=\"p\">(</span><span class=\"mi\">100</span><span class=\"p\">,</span> <span class=\"mi\">10</span><span class=\"p\">))</span>\n",
       "\n",
       "<span class=\"c1\"># calculate sum of each batch</span>\n",
       "<span class=\"n\">batch_sums</span> <span class=\"o\">=</span> <span class=\"n\">random_numbers</span><span class=\"o\">.</span><span class=\"kp\">sum</span><span class=\"p\">(</span><span class=\"n\">axis</span><span class=\"o\">=</span><span class=\"mi\">1</span><span class=\"p\">)</span>\n",
       "\n",
       "<span class=\"c1\"># calculate average and standard deviation of sums</span>\n",
       "<span class=\"kp\">average</span> <span class=\"o\">=</span> <span class=\"n\">batch_sums</span><span class=\"o\">.</span><span class=\"kp\">mean</span><span class=\"p\">()</span>\n",
       "<span class=\"n\">std_dev</span> <span class=\"o\">=</span> <span class=\"n\">batch_sums</span><span class=\"o\">.</span><span class=\"kp\">std</span><span class=\"p\">()</span>\n",
       "\n",
       "<span class=\"nb\">print</span><span class=\"p\">(</span><span class=\"s2\">&quot;Average:&quot;</span><span class=\"p\">,</span> <span class=\"kp\">average</span><span class=\"p\">)</span>\n",
       "<span class=\"nb\">print</span><span class=\"p\">(</span><span class=\"s2\">&quot;Standard Deviation:&quot;</span><span class=\"p\">,</span> <span class=\"n\">std_dev</span><span class=\"p\">)</span>\n",
       "</pre></div>\n"
      ],
      "text/latex": [
       "\\begin{Verbatim}[commandchars=\\\\\\{\\}]\n",
       "\\PY{k+kn}{import} \\PY{n+nn}{numpy} \\PY{k}{as} \\PY{n+nn}{np}\n",
       "\n",
       "\\PY{c+c1}{\\PYZsh{} generate 100 batches of 10 random numbers ranged from 10 to 20}\n",
       "\\PY{n}{random\\PYZus{}numbers} \\PY{o}{=} \\PY{n}{np}\\PY{o}{.}\\PY{n}{random}\\PY{o}{.}\\PY{k+kp}{randint}\\PY{p}{(}\\PY{l+m+mi}{10}\\PY{p}{,} \\PY{l+m+mi}{20}\\PY{p}{,} \\PY{k+kp}{size}\\PY{o}{=}\\PY{p}{(}\\PY{l+m+mi}{100}\\PY{p}{,} \\PY{l+m+mi}{10}\\PY{p}{)}\\PY{p}{)}\n",
       "\n",
       "\\PY{c+c1}{\\PYZsh{} calculate sum of each batch}\n",
       "\\PY{n}{batch\\PYZus{}sums} \\PY{o}{=} \\PY{n}{random\\PYZus{}numbers}\\PY{o}{.}\\PY{k+kp}{sum}\\PY{p}{(}\\PY{n}{axis}\\PY{o}{=}\\PY{l+m+mi}{1}\\PY{p}{)}\n",
       "\n",
       "\\PY{c+c1}{\\PYZsh{} calculate average and standard deviation of sums}\n",
       "\\PY{k+kp}{average} \\PY{o}{=} \\PY{n}{batch\\PYZus{}sums}\\PY{o}{.}\\PY{k+kp}{mean}\\PY{p}{(}\\PY{p}{)}\n",
       "\\PY{n}{std\\PYZus{}dev} \\PY{o}{=} \\PY{n}{batch\\PYZus{}sums}\\PY{o}{.}\\PY{k+kp}{std}\\PY{p}{(}\\PY{p}{)}\n",
       "\n",
       "\\PY{n+nb}{print}\\PY{p}{(}\\PY{l+s+s2}{\\PYZdq{}}\\PY{l+s+s2}{Average:}\\PY{l+s+s2}{\\PYZdq{}}\\PY{p}{,} \\PY{k+kp}{average}\\PY{p}{)}\n",
       "\\PY{n+nb}{print}\\PY{p}{(}\\PY{l+s+s2}{\\PYZdq{}}\\PY{l+s+s2}{Standard Deviation:}\\PY{l+s+s2}{\\PYZdq{}}\\PY{p}{,} \\PY{n}{std\\PYZus{}dev}\\PY{p}{)}\n",
       "\\end{Verbatim}\n"
      ],
      "text/plain": [
       "\n",
       "import numpy as np\n",
       "\n",
       "# generate 100 batches of 10 random numbers ranged from 10 to 20\n",
       "random_numbers = np.random.randint(10, 20, size=(100, 10))\n",
       "\n",
       "# calculate sum of each batch\n",
       "batch_sums = random_numbers.sum(axis=1)\n",
       "\n",
       "# calculate average and standard deviation of sums\n",
       "average = batch_sums.mean()\n",
       "std_dev = batch_sums.std()\n",
       "\n",
       "print(\"Average:\", average)\n",
       "print(\"Standard Deviation:\", std_dev)"
      ]
     },
     "metadata": {},
     "output_type": "display_data"
    }
   ],
   "source": [
    "display(Code(code))"
   ]
  },
  {
   "cell_type": "markdown",
   "metadata": {},
   "source": [
    "Following examples at https://ollama.ai/library/codellama"
   ]
  },
  {
   "cell_type": "code",
   "execution_count": 11,
   "metadata": {},
   "outputs": [],
   "source": [
    "prompt = ChatPromptTemplate.from_template(\"{input}\")\n",
    "\n",
    "model = ChatOllama(model=\"codellama\")"
   ]
  },
  {
   "cell_type": "code",
   "execution_count": 12,
   "metadata": {},
   "outputs": [],
   "source": [
    "output_parser = StrOutputParser()\n",
    "\n",
    "chain = prompt | model | output_parser"
   ]
  },
  {
   "cell_type": "code",
   "execution_count": 13,
   "metadata": {},
   "outputs": [],
   "source": [
    "code = chain.invoke({\"input\": \"Write me a function that outputs the fibonacci sequence\"})"
   ]
  },
  {
   "cell_type": "code",
   "execution_count": 14,
   "metadata": {},
   "outputs": [
    {
     "data": {
      "text/plain": [
       "'\\nfunction fibonacci(n) {\\n  if (n <= 1) return n;\\n  return fibonacci(n-1) + fibonacci(n-2);\\n}\\n\\n// Test case:\\nconsole.log(fibonacci(5)); // should output 5\\nconsole.log(fibonacci(8)); // should output 21\\nconsole.log(fibonacci(13)); // should output 89\\nconsole.log(fibonacci(20)); // should output 6765\\n```'"
      ]
     },
     "execution_count": 14,
     "metadata": {},
     "output_type": "execute_result"
    }
   ],
   "source": [
    "code"
   ]
  },
  {
   "cell_type": "code",
   "execution_count": 16,
   "metadata": {},
   "outputs": [
    {
     "data": {
      "text/html": [
       "<style>pre { line-height: 125%; }\n",
       "td.linenos .normal { color: inherit; background-color: transparent; padding-left: 5px; padding-right: 5px; }\n",
       "span.linenos { color: inherit; background-color: transparent; padding-left: 5px; padding-right: 5px; }\n",
       "td.linenos .special { color: #000000; background-color: #ffffc0; padding-left: 5px; padding-right: 5px; }\n",
       "span.linenos.special { color: #000000; background-color: #ffffc0; padding-left: 5px; padding-right: 5px; }\n",
       ".output_html .hll { background-color: #ffffcc }\n",
       ".output_html { background: #f8f8f8; }\n",
       ".output_html .c { color: #3D7B7B; font-style: italic } /* Comment */\n",
       ".output_html .err { border: 1px solid #FF0000 } /* Error */\n",
       ".output_html .k { color: #008000; font-weight: bold } /* Keyword */\n",
       ".output_html .o { color: #666666 } /* Operator */\n",
       ".output_html .ch { color: #3D7B7B; font-style: italic } /* Comment.Hashbang */\n",
       ".output_html .cm { color: #3D7B7B; font-style: italic } /* Comment.Multiline */\n",
       ".output_html .cp { color: #9C6500 } /* Comment.Preproc */\n",
       ".output_html .cpf { color: #3D7B7B; font-style: italic } /* Comment.PreprocFile */\n",
       ".output_html .c1 { color: #3D7B7B; font-style: italic } /* Comment.Single */\n",
       ".output_html .cs { color: #3D7B7B; font-style: italic } /* Comment.Special */\n",
       ".output_html .gd { color: #A00000 } /* Generic.Deleted */\n",
       ".output_html .ge { font-style: italic } /* Generic.Emph */\n",
       ".output_html .ges { font-weight: bold; font-style: italic } /* Generic.EmphStrong */\n",
       ".output_html .gr { color: #E40000 } /* Generic.Error */\n",
       ".output_html .gh { color: #000080; font-weight: bold } /* Generic.Heading */\n",
       ".output_html .gi { color: #008400 } /* Generic.Inserted */\n",
       ".output_html .go { color: #717171 } /* Generic.Output */\n",
       ".output_html .gp { color: #000080; font-weight: bold } /* Generic.Prompt */\n",
       ".output_html .gs { font-weight: bold } /* Generic.Strong */\n",
       ".output_html .gu { color: #800080; font-weight: bold } /* Generic.Subheading */\n",
       ".output_html .gt { color: #0044DD } /* Generic.Traceback */\n",
       ".output_html .kc { color: #008000; font-weight: bold } /* Keyword.Constant */\n",
       ".output_html .kd { color: #008000; font-weight: bold } /* Keyword.Declaration */\n",
       ".output_html .kn { color: #008000; font-weight: bold } /* Keyword.Namespace */\n",
       ".output_html .kp { color: #008000 } /* Keyword.Pseudo */\n",
       ".output_html .kr { color: #008000; font-weight: bold } /* Keyword.Reserved */\n",
       ".output_html .kt { color: #B00040 } /* Keyword.Type */\n",
       ".output_html .m { color: #666666 } /* Literal.Number */\n",
       ".output_html .s { color: #BA2121 } /* Literal.String */\n",
       ".output_html .na { color: #687822 } /* Name.Attribute */\n",
       ".output_html .nb { color: #008000 } /* Name.Builtin */\n",
       ".output_html .nc { color: #0000FF; font-weight: bold } /* Name.Class */\n",
       ".output_html .no { color: #880000 } /* Name.Constant */\n",
       ".output_html .nd { color: #AA22FF } /* Name.Decorator */\n",
       ".output_html .ni { color: #717171; font-weight: bold } /* Name.Entity */\n",
       ".output_html .ne { color: #CB3F38; font-weight: bold } /* Name.Exception */\n",
       ".output_html .nf { color: #0000FF } /* Name.Function */\n",
       ".output_html .nl { color: #767600 } /* Name.Label */\n",
       ".output_html .nn { color: #0000FF; font-weight: bold } /* Name.Namespace */\n",
       ".output_html .nt { color: #008000; font-weight: bold } /* Name.Tag */\n",
       ".output_html .nv { color: #19177C } /* Name.Variable */\n",
       ".output_html .ow { color: #AA22FF; font-weight: bold } /* Operator.Word */\n",
       ".output_html .w { color: #bbbbbb } /* Text.Whitespace */\n",
       ".output_html .mb { color: #666666 } /* Literal.Number.Bin */\n",
       ".output_html .mf { color: #666666 } /* Literal.Number.Float */\n",
       ".output_html .mh { color: #666666 } /* Literal.Number.Hex */\n",
       ".output_html .mi { color: #666666 } /* Literal.Number.Integer */\n",
       ".output_html .mo { color: #666666 } /* Literal.Number.Oct */\n",
       ".output_html .sa { color: #BA2121 } /* Literal.String.Affix */\n",
       ".output_html .sb { color: #BA2121 } /* Literal.String.Backtick */\n",
       ".output_html .sc { color: #BA2121 } /* Literal.String.Char */\n",
       ".output_html .dl { color: #BA2121 } /* Literal.String.Delimiter */\n",
       ".output_html .sd { color: #BA2121; font-style: italic } /* Literal.String.Doc */\n",
       ".output_html .s2 { color: #BA2121 } /* Literal.String.Double */\n",
       ".output_html .se { color: #AA5D1F; font-weight: bold } /* Literal.String.Escape */\n",
       ".output_html .sh { color: #BA2121 } /* Literal.String.Heredoc */\n",
       ".output_html .si { color: #A45A77; font-weight: bold } /* Literal.String.Interpol */\n",
       ".output_html .sx { color: #008000 } /* Literal.String.Other */\n",
       ".output_html .sr { color: #A45A77 } /* Literal.String.Regex */\n",
       ".output_html .s1 { color: #BA2121 } /* Literal.String.Single */\n",
       ".output_html .ss { color: #19177C } /* Literal.String.Symbol */\n",
       ".output_html .bp { color: #008000 } /* Name.Builtin.Pseudo */\n",
       ".output_html .fm { color: #0000FF } /* Name.Function.Magic */\n",
       ".output_html .vc { color: #19177C } /* Name.Variable.Class */\n",
       ".output_html .vg { color: #19177C } /* Name.Variable.Global */\n",
       ".output_html .vi { color: #19177C } /* Name.Variable.Instance */\n",
       ".output_html .vm { color: #19177C } /* Name.Variable.Magic */\n",
       ".output_html .il { color: #666666 } /* Literal.Number.Integer.Long */</style><div class=\"highlight\"><pre><span></span><span class=\"nt\">function</span><span class=\"w\"> </span><span class=\"nt\">fibonacci</span><span class=\"o\">(</span><span class=\"nt\">n</span><span class=\"o\">)</span><span class=\"w\"> </span><span class=\"p\">{</span>\n",
       "<span class=\"w\">  </span><span class=\"err\">if</span><span class=\"w\"> </span><span class=\"err\">(n</span><span class=\"w\"> </span><span class=\"err\">&lt;=</span><span class=\"w\"> </span><span class=\"err\">1)</span><span class=\"w\"> </span><span class=\"err\">return</span><span class=\"w\"> </span><span class=\"err\">n</span><span class=\"p\">;</span>\n",
       "<span class=\"w\">  </span><span class=\"err\">return</span><span class=\"w\"> </span><span class=\"err\">fibonacci(n-1)</span><span class=\"w\"> </span><span class=\"err\">+</span><span class=\"w\"> </span><span class=\"err\">fibonacci(n-2)</span><span class=\"p\">;</span>\n",
       "<span class=\"p\">}</span>\n",
       "\n",
       "<span class=\"o\">//</span><span class=\"w\"> </span><span class=\"nt\">Test</span><span class=\"w\"> </span><span class=\"nt\">case</span><span class=\"o\">:</span>\n",
       "<span class=\"nt\">console</span><span class=\"p\">.</span><span class=\"nc\">log</span><span class=\"o\">(</span><span class=\"nt\">fibonacci</span><span class=\"o\">(</span><span class=\"nt\">5</span><span class=\"o\">));</span><span class=\"w\"> </span><span class=\"o\">//</span><span class=\"w\"> </span><span class=\"nt\">should</span><span class=\"w\"> </span><span class=\"nt\">output</span><span class=\"w\"> </span><span class=\"nt\">5</span>\n",
       "<span class=\"nt\">console</span><span class=\"p\">.</span><span class=\"nc\">log</span><span class=\"o\">(</span><span class=\"nt\">fibonacci</span><span class=\"o\">(</span><span class=\"nt\">8</span><span class=\"o\">));</span><span class=\"w\"> </span><span class=\"o\">//</span><span class=\"w\"> </span><span class=\"nt\">should</span><span class=\"w\"> </span><span class=\"nt\">output</span><span class=\"w\"> </span><span class=\"nt\">21</span>\n",
       "<span class=\"nt\">console</span><span class=\"p\">.</span><span class=\"nc\">log</span><span class=\"o\">(</span><span class=\"nt\">fibonacci</span><span class=\"o\">(</span><span class=\"nt\">13</span><span class=\"o\">));</span><span class=\"w\"> </span><span class=\"o\">//</span><span class=\"w\"> </span><span class=\"nt\">should</span><span class=\"w\"> </span><span class=\"nt\">output</span><span class=\"w\"> </span><span class=\"nt\">89</span>\n",
       "<span class=\"nt\">console</span><span class=\"p\">.</span><span class=\"nc\">log</span><span class=\"o\">(</span><span class=\"nt\">fibonacci</span><span class=\"o\">(</span><span class=\"nt\">20</span><span class=\"o\">));</span><span class=\"w\"> </span><span class=\"o\">//</span><span class=\"w\"> </span><span class=\"nt\">should</span><span class=\"w\"> </span><span class=\"nt\">output</span><span class=\"w\"> </span><span class=\"nt\">6765</span>\n",
       "<span class=\"err\">```</span>\n",
       "</pre></div>\n"
      ],
      "text/latex": [
       "\\begin{Verbatim}[commandchars=\\\\\\{\\}]\n",
       "\\PY{n+nt}{function}\\PY{+w}{ }\\PY{n+nt}{fibonacci}\\PY{o}{(}\\PY{n+nt}{n}\\PY{o}{)}\\PY{+w}{ }\\PY{p}{\\PYZob{}}\n",
       "\\PY{+w}{  }\\PY{err}{i}\\PY{err}{f}\\PY{+w}{ }\\PY{err}{(}\\PY{err}{n}\\PY{+w}{ }\\PY{err}{\\PYZlt{}}\\PY{err}{=}\\PY{+w}{ }\\PY{err}{1}\\PY{err}{)}\\PY{+w}{ }\\PY{err}{r}\\PY{err}{e}\\PY{err}{t}\\PY{err}{u}\\PY{err}{r}\\PY{err}{n}\\PY{+w}{ }\\PY{err}{n}\\PY{p}{;}\n",
       "\\PY{+w}{  }\\PY{err}{r}\\PY{err}{e}\\PY{err}{t}\\PY{err}{u}\\PY{err}{r}\\PY{err}{n}\\PY{+w}{ }\\PY{err}{f}\\PY{err}{i}\\PY{err}{b}\\PY{err}{o}\\PY{err}{n}\\PY{err}{a}\\PY{err}{c}\\PY{err}{c}\\PY{err}{i}\\PY{err}{(}\\PY{err}{n}\\PY{err}{\\PYZhy{}}\\PY{err}{1}\\PY{err}{)}\\PY{+w}{ }\\PY{err}{+}\\PY{+w}{ }\\PY{err}{f}\\PY{err}{i}\\PY{err}{b}\\PY{err}{o}\\PY{err}{n}\\PY{err}{a}\\PY{err}{c}\\PY{err}{c}\\PY{err}{i}\\PY{err}{(}\\PY{err}{n}\\PY{err}{\\PYZhy{}}\\PY{err}{2}\\PY{err}{)}\\PY{p}{;}\n",
       "\\PY{p}{\\PYZcb{}}\n",
       "\n",
       "\\PY{o}{/}\\PY{o}{/}\\PY{+w}{ }\\PY{n+nt}{Test}\\PY{+w}{ }\\PY{n+nt}{case}\\PY{o}{:}\n",
       "\\PY{n+nt}{console}\\PY{p}{.}\\PY{n+nc}{log}\\PY{o}{(}\\PY{n+nt}{fibonacci}\\PY{o}{(}\\PY{n+nt}{5}\\PY{o}{)}\\PY{o}{)}\\PY{o}{;}\\PY{+w}{ }\\PY{o}{/}\\PY{o}{/}\\PY{+w}{ }\\PY{n+nt}{should}\\PY{+w}{ }\\PY{n+nt}{output}\\PY{+w}{ }\\PY{n+nt}{5}\n",
       "\\PY{n+nt}{console}\\PY{p}{.}\\PY{n+nc}{log}\\PY{o}{(}\\PY{n+nt}{fibonacci}\\PY{o}{(}\\PY{n+nt}{8}\\PY{o}{)}\\PY{o}{)}\\PY{o}{;}\\PY{+w}{ }\\PY{o}{/}\\PY{o}{/}\\PY{+w}{ }\\PY{n+nt}{should}\\PY{+w}{ }\\PY{n+nt}{output}\\PY{+w}{ }\\PY{n+nt}{21}\n",
       "\\PY{n+nt}{console}\\PY{p}{.}\\PY{n+nc}{log}\\PY{o}{(}\\PY{n+nt}{fibonacci}\\PY{o}{(}\\PY{n+nt}{13}\\PY{o}{)}\\PY{o}{)}\\PY{o}{;}\\PY{+w}{ }\\PY{o}{/}\\PY{o}{/}\\PY{+w}{ }\\PY{n+nt}{should}\\PY{+w}{ }\\PY{n+nt}{output}\\PY{+w}{ }\\PY{n+nt}{89}\n",
       "\\PY{n+nt}{console}\\PY{p}{.}\\PY{n+nc}{log}\\PY{o}{(}\\PY{n+nt}{fibonacci}\\PY{o}{(}\\PY{n+nt}{20}\\PY{o}{)}\\PY{o}{)}\\PY{o}{;}\\PY{+w}{ }\\PY{o}{/}\\PY{o}{/}\\PY{+w}{ }\\PY{n+nt}{should}\\PY{+w}{ }\\PY{n+nt}{output}\\PY{+w}{ }\\PY{n+nt}{6765}\n",
       "\\PY{err}{`}\\PY{err}{`}\\PY{err}{`}\n",
       "\\end{Verbatim}\n"
      ],
      "text/plain": [
       "\n",
       "function fibonacci(n) {\n",
       "  if (n <= 1) return n;\n",
       "  return fibonacci(n-1) + fibonacci(n-2);\n",
       "}\n",
       "\n",
       "// Test case:\n",
       "console.log(fibonacci(5)); // should output 5\n",
       "console.log(fibonacci(8)); // should output 21\n",
       "console.log(fibonacci(13)); // should output 89\n",
       "console.log(fibonacci(20)); // should output 6765\n",
       "```"
      ]
     },
     "metadata": {},
     "output_type": "display_data"
    }
   ],
   "source": [
    "display(Code(code))"
   ]
  },
  {
   "cell_type": "markdown",
   "metadata": {},
   "source": [
    "Instruct variation"
   ]
  },
  {
   "cell_type": "code",
   "execution_count": 17,
   "metadata": {},
   "outputs": [],
   "source": [
    "template = \"\"\"\n",
    "You are an expert programmer that writes simple, concise code and explanations in Markdown format. \n",
    "\"\"\"\n",
    "prompt = ChatPromptTemplate.from_messages([(\"system\", template), (\"human\", \"{input}\")])\n",
    "\n",
    "model = ChatOllama(model=\"codellama:7b-instruct\")"
   ]
  },
  {
   "cell_type": "code",
   "execution_count": 18,
   "metadata": {},
   "outputs": [],
   "source": [
    "output_parser = StrOutputParser()\n",
    "\n",
    "chain = prompt | model | output_parser"
   ]
  },
  {
   "cell_type": "code",
   "execution_count": 19,
   "metadata": {},
   "outputs": [],
   "source": [
    "code = chain.invoke({\"input\": \"Write a python function to generate the nth fibonacci number.\"})"
   ]
  },
  {
   "cell_type": "code",
   "execution_count": 20,
   "metadata": {},
   "outputs": [
    {
     "data": {
      "text/plain": [
       "'\\n```\\ndef fibonacci(n):\\n    if n <= 1:\\n        return n\\n    else:\\n        return fibonacci(n-1) + fibonacci(n-2)\\n```\\n\\nExplanation:\\n\\nThe `fibonacci` function takes an integer `n` as input and returns the `nth` Fibonacci number. The function uses a recursive approach, where it calls itself with smaller values of `n` until it reaches the base case. In the base case, when `n <= 1`, the function simply returns the value of `n`. Otherwise, it calculates the sum of the previous two Fibonacci numbers using the same formula and returns that result.\\n\\nFor example, if we call the function with `n = 5`, it will calculate the Fibonacci sequence as follows:\\n```\\nfibonacci(5) = fibonacci(4) + fibonacci(3)\\n            = fibonacci(3) + fibonacci(2) + fibonacci(1)\\n            = 3 + 2 + 1\\n            = 6\\n```\\nSo, the value of `fibonacci(5)` is `6`.'"
      ]
     },
     "execution_count": 20,
     "metadata": {},
     "output_type": "execute_result"
    }
   ],
   "source": [
    "code"
   ]
  },
  {
   "cell_type": "code",
   "execution_count": 21,
   "metadata": {},
   "outputs": [
    {
     "data": {
      "text/markdown": [
       "\n",
       "```\n",
       "def fibonacci(n):\n",
       "    if n <= 1:\n",
       "        return n\n",
       "    else:\n",
       "        return fibonacci(n-1) + fibonacci(n-2)\n",
       "```\n",
       "\n",
       "Explanation:\n",
       "\n",
       "The `fibonacci` function takes an integer `n` as input and returns the `nth` Fibonacci number. The function uses a recursive approach, where it calls itself with smaller values of `n` until it reaches the base case. In the base case, when `n <= 1`, the function simply returns the value of `n`. Otherwise, it calculates the sum of the previous two Fibonacci numbers using the same formula and returns that result.\n",
       "\n",
       "For example, if we call the function with `n = 5`, it will calculate the Fibonacci sequence as follows:\n",
       "```\n",
       "fibonacci(5) = fibonacci(4) + fibonacci(3)\n",
       "            = fibonacci(3) + fibonacci(2) + fibonacci(1)\n",
       "            = 3 + 2 + 1\n",
       "            = 6\n",
       "```\n",
       "So, the value of `fibonacci(5)` is `6`."
      ],
      "text/plain": [
       "<IPython.core.display.Markdown object>"
      ]
     },
     "metadata": {},
     "output_type": "display_data"
    }
   ],
   "source": [
    "display(Markdown(code))"
   ]
  },
  {
   "cell_type": "markdown",
   "metadata": {},
   "source": [
    "Fill in the middle or infill"
   ]
  },
  {
   "cell_type": "code",
   "execution_count": 22,
   "metadata": {},
   "outputs": [],
   "source": [
    "from langchain_core.prompts import PromptTemplate\n",
    "\n",
    "prompt = PromptTemplate.from_template(\"<PRE> {prefix} <SUF>{suffix} <MID>\")\n",
    "llm = Ollama(base_url=\"http://localhost:11434\", model=\"codellama:7b-code\")"
   ]
  },
  {
   "cell_type": "code",
   "execution_count": 23,
   "metadata": {},
   "outputs": [],
   "source": [
    "output_parser = StrOutputParser()\n",
    "\n",
    "chain = prompt | llm | output_parser"
   ]
  },
  {
   "cell_type": "code",
   "execution_count": 24,
   "metadata": {},
   "outputs": [],
   "source": [
    "code = chain.invoke({\"prefix\": \"def compute_gcd(x, y):\", \"suffix\": \"return result\"})"
   ]
  },
  {
   "cell_type": "code",
   "execution_count": 25,
   "metadata": {},
   "outputs": [
    {
     "data": {
      "text/html": [
       "<style>pre { line-height: 125%; }\n",
       "td.linenos .normal { color: inherit; background-color: transparent; padding-left: 5px; padding-right: 5px; }\n",
       "span.linenos { color: inherit; background-color: transparent; padding-left: 5px; padding-right: 5px; }\n",
       "td.linenos .special { color: #000000; background-color: #ffffc0; padding-left: 5px; padding-right: 5px; }\n",
       "span.linenos.special { color: #000000; background-color: #ffffc0; padding-left: 5px; padding-right: 5px; }\n",
       ".output_html .hll { background-color: #ffffcc }\n",
       ".output_html { background: #f8f8f8; }\n",
       ".output_html .c { color: #3D7B7B; font-style: italic } /* Comment */\n",
       ".output_html .err { border: 1px solid #FF0000 } /* Error */\n",
       ".output_html .k { color: #008000; font-weight: bold } /* Keyword */\n",
       ".output_html .o { color: #666666 } /* Operator */\n",
       ".output_html .ch { color: #3D7B7B; font-style: italic } /* Comment.Hashbang */\n",
       ".output_html .cm { color: #3D7B7B; font-style: italic } /* Comment.Multiline */\n",
       ".output_html .cp { color: #9C6500 } /* Comment.Preproc */\n",
       ".output_html .cpf { color: #3D7B7B; font-style: italic } /* Comment.PreprocFile */\n",
       ".output_html .c1 { color: #3D7B7B; font-style: italic } /* Comment.Single */\n",
       ".output_html .cs { color: #3D7B7B; font-style: italic } /* Comment.Special */\n",
       ".output_html .gd { color: #A00000 } /* Generic.Deleted */\n",
       ".output_html .ge { font-style: italic } /* Generic.Emph */\n",
       ".output_html .ges { font-weight: bold; font-style: italic } /* Generic.EmphStrong */\n",
       ".output_html .gr { color: #E40000 } /* Generic.Error */\n",
       ".output_html .gh { color: #000080; font-weight: bold } /* Generic.Heading */\n",
       ".output_html .gi { color: #008400 } /* Generic.Inserted */\n",
       ".output_html .go { color: #717171 } /* Generic.Output */\n",
       ".output_html .gp { color: #000080; font-weight: bold } /* Generic.Prompt */\n",
       ".output_html .gs { font-weight: bold } /* Generic.Strong */\n",
       ".output_html .gu { color: #800080; font-weight: bold } /* Generic.Subheading */\n",
       ".output_html .gt { color: #0044DD } /* Generic.Traceback */\n",
       ".output_html .kc { color: #008000; font-weight: bold } /* Keyword.Constant */\n",
       ".output_html .kd { color: #008000; font-weight: bold } /* Keyword.Declaration */\n",
       ".output_html .kn { color: #008000; font-weight: bold } /* Keyword.Namespace */\n",
       ".output_html .kp { color: #008000 } /* Keyword.Pseudo */\n",
       ".output_html .kr { color: #008000; font-weight: bold } /* Keyword.Reserved */\n",
       ".output_html .kt { color: #B00040 } /* Keyword.Type */\n",
       ".output_html .m { color: #666666 } /* Literal.Number */\n",
       ".output_html .s { color: #BA2121 } /* Literal.String */\n",
       ".output_html .na { color: #687822 } /* Name.Attribute */\n",
       ".output_html .nb { color: #008000 } /* Name.Builtin */\n",
       ".output_html .nc { color: #0000FF; font-weight: bold } /* Name.Class */\n",
       ".output_html .no { color: #880000 } /* Name.Constant */\n",
       ".output_html .nd { color: #AA22FF } /* Name.Decorator */\n",
       ".output_html .ni { color: #717171; font-weight: bold } /* Name.Entity */\n",
       ".output_html .ne { color: #CB3F38; font-weight: bold } /* Name.Exception */\n",
       ".output_html .nf { color: #0000FF } /* Name.Function */\n",
       ".output_html .nl { color: #767600 } /* Name.Label */\n",
       ".output_html .nn { color: #0000FF; font-weight: bold } /* Name.Namespace */\n",
       ".output_html .nt { color: #008000; font-weight: bold } /* Name.Tag */\n",
       ".output_html .nv { color: #19177C } /* Name.Variable */\n",
       ".output_html .ow { color: #AA22FF; font-weight: bold } /* Operator.Word */\n",
       ".output_html .w { color: #bbbbbb } /* Text.Whitespace */\n",
       ".output_html .mb { color: #666666 } /* Literal.Number.Bin */\n",
       ".output_html .mf { color: #666666 } /* Literal.Number.Float */\n",
       ".output_html .mh { color: #666666 } /* Literal.Number.Hex */\n",
       ".output_html .mi { color: #666666 } /* Literal.Number.Integer */\n",
       ".output_html .mo { color: #666666 } /* Literal.Number.Oct */\n",
       ".output_html .sa { color: #BA2121 } /* Literal.String.Affix */\n",
       ".output_html .sb { color: #BA2121 } /* Literal.String.Backtick */\n",
       ".output_html .sc { color: #BA2121 } /* Literal.String.Char */\n",
       ".output_html .dl { color: #BA2121 } /* Literal.String.Delimiter */\n",
       ".output_html .sd { color: #BA2121; font-style: italic } /* Literal.String.Doc */\n",
       ".output_html .s2 { color: #BA2121 } /* Literal.String.Double */\n",
       ".output_html .se { color: #AA5D1F; font-weight: bold } /* Literal.String.Escape */\n",
       ".output_html .sh { color: #BA2121 } /* Literal.String.Heredoc */\n",
       ".output_html .si { color: #A45A77; font-weight: bold } /* Literal.String.Interpol */\n",
       ".output_html .sx { color: #008000 } /* Literal.String.Other */\n",
       ".output_html .sr { color: #A45A77 } /* Literal.String.Regex */\n",
       ".output_html .s1 { color: #BA2121 } /* Literal.String.Single */\n",
       ".output_html .ss { color: #19177C } /* Literal.String.Symbol */\n",
       ".output_html .bp { color: #008000 } /* Name.Builtin.Pseudo */\n",
       ".output_html .fm { color: #0000FF } /* Name.Function.Magic */\n",
       ".output_html .vc { color: #19177C } /* Name.Variable.Class */\n",
       ".output_html .vg { color: #19177C } /* Name.Variable.Global */\n",
       ".output_html .vi { color: #19177C } /* Name.Variable.Instance */\n",
       ".output_html .vm { color: #19177C } /* Name.Variable.Magic */\n",
       ".output_html .il { color: #666666 } /* Literal.Number.Integer.Long */</style><div class=\"highlight\"><pre><span></span>  if x == 0:\n",
       "    return y\n",
       "  elif y == 0:\n",
       "    return x\n",
       "  else:\n",
       "    m = min(x, y)\n",
       "    while m &gt; 0:\n",
       "      if (m % x == 0 and m % y == 0):\n",
       "        return m\n",
       "      else:\n",
       "        m -= 1\n",
       "\n",
       "def compute_lcm(x, y):\n",
       "  result = x * y / compute_gcd(x, y)\n",
       "   &lt;EOT&gt;\n",
       "</pre></div>\n"
      ],
      "text/latex": [
       "\\begin{Verbatim}[commandchars=\\\\\\{\\}]\n",
       "  if x == 0:\n",
       "    return y\n",
       "  elif y == 0:\n",
       "    return x\n",
       "  else:\n",
       "    m = min(x, y)\n",
       "    while m \\PYZgt{} 0:\n",
       "      if (m \\PYZpc{} x == 0 and m \\PYZpc{} y == 0):\n",
       "        return m\n",
       "      else:\n",
       "        m \\PYZhy{}= 1\n",
       "\n",
       "def compute\\PYZus{}lcm(x, y):\n",
       "  result = x * y / compute\\PYZus{}gcd(x, y)\n",
       "   \\PYZlt{}EOT\\PYZgt{}\n",
       "\\end{Verbatim}\n"
      ],
      "text/plain": [
       "\n",
       "  if x == 0:\n",
       "    return y\n",
       "  elif y == 0:\n",
       "    return x\n",
       "  else:\n",
       "    m = min(x, y)\n",
       "    while m > 0:\n",
       "      if (m % x == 0 and m % y == 0):\n",
       "        return m\n",
       "      else:\n",
       "        m -= 1\n",
       "\n",
       "def compute_lcm(x, y):\n",
       "  result = x * y / compute_gcd(x, y)\n",
       "   <EOT>"
      ]
     },
     "metadata": {},
     "output_type": "display_data"
    }
   ],
   "source": [
    "display(Code(code))"
   ]
  },
  {
   "cell_type": "markdown",
   "metadata": {},
   "source": [
    "Code review"
   ]
  },
  {
   "cell_type": "code",
   "execution_count": 26,
   "metadata": {},
   "outputs": [],
   "source": [
    "from langchain_core.prompts import PromptTemplate\n",
    "\n",
    "prompt = PromptTemplate.from_template(\"{input}\")\n",
    "llm = Ollama(base_url=\"http://localhost:11434\", model=\"codellama\")"
   ]
  },
  {
   "cell_type": "code",
   "execution_count": 27,
   "metadata": {},
   "outputs": [],
   "source": [
    "output_parser = StrOutputParser()\n",
    "\n",
    "chain = prompt | llm | output_parser"
   ]
  },
  {
   "cell_type": "code",
   "execution_count": 28,
   "metadata": {},
   "outputs": [],
   "source": [
    "code = chain.invoke({\"input\":\"\"\"\n",
    "Where is the bug in this code?\n",
    "\n",
    "def fib(n):\n",
    "    if n <= 0:\n",
    "        return n\n",
    "    else:\n",
    "        return fib(n-1) + fib(n-2)\n",
    "\"\"\"})"
   ]
  },
  {
   "cell_type": "code",
   "execution_count": 29,
   "metadata": {},
   "outputs": [
    {
     "data": {
      "text/markdown": [
       "\n",
       "The bug in this code is that it will cause a recursion error for values of `n` greater than or equal to 47, as the function calls itself with arguments that are one less than the previous call. This will eventually cause the stack to overflow, causing a recursion error.\n",
       "\n",
       "To fix the bug, you can modify the function to use a loop instead of recursive calls, like this:\n",
       "```\n",
       "def fib(n):\n",
       "    a, b = 0, 1\n",
       "    for i in range(n):\n",
       "        a, b = b, a+b\n",
       "    return a\n",
       "```\n",
       "This will work correctly for any value of `n`."
      ],
      "text/plain": [
       "<IPython.core.display.Markdown object>"
      ]
     },
     "metadata": {},
     "output_type": "display_data"
    }
   ],
   "source": [
    "display(Markdown(code))"
   ]
  },
  {
   "cell_type": "markdown",
   "metadata": {},
   "source": [
    "Writing tests"
   ]
  },
  {
   "cell_type": "code",
   "execution_count": 30,
   "metadata": {},
   "outputs": [],
   "source": [
    "from langchain_core.prompts import PromptTemplate\n",
    "\n",
    "prompt = PromptTemplate.from_template(\"{input}\")\n",
    "llm = Ollama(base_url=\"http://localhost:11434\", model=\"codellama\")"
   ]
  },
  {
   "cell_type": "code",
   "execution_count": 31,
   "metadata": {},
   "outputs": [],
   "source": [
    "output_parser = StrOutputParser()\n",
    "\n",
    "chain = prompt | llm | output_parser"
   ]
  },
  {
   "cell_type": "code",
   "execution_count": 32,
   "metadata": {},
   "outputs": [],
   "source": [
    "code = chain.invoke({\"input\":\"\"\"\n",
    "write a unit test for this function: \n",
    "\n",
    "def fibonacci(n):\n",
    "    if n <= 1:\n",
    "        return n\n",
    "    else:\n",
    "        return fibonacci(n-1) + fibonacci(n-2)\n",
    "\"\"\"})\n"
   ]
  },
  {
   "cell_type": "code",
   "execution_count": 33,
   "metadata": {},
   "outputs": [
    {
     "data": {
      "text/markdown": [
       "  Here is an example of a unit test for the `fibonacci` function using the built-in Python unittest module:\n",
       "```\n",
       "import unittest\n",
       "\n",
       "class TestFibonacci(unittest.TestCase):\n",
       "    def test_fibonacci(self):\n",
       "        self.assertEqual(fibonacci(1), 1)\n",
       "        self.assertEqual(fibonacci(2), 1)\n",
       "        self.assertEqual(fibonacci(3), 2)\n",
       "        self.assertEqual(fibonacci(4), 3)\n",
       "        self.assertEqual(fibonacci(5), 5)\n",
       "        self.assertEqual(fibonacci(6), 8)\n",
       "        self.assertEqual(fibonacci(7), 13)\n",
       "        self.assertEqual(fibonacci(8), 21)\n",
       "        self.assertEqual(fibonacci(9), 34)\n",
       "        self.assertEqual(fibonacci(10), 55)\n",
       "\n",
       "if __name__ == '__main__':\n",
       "    unittest.main()\n",
       "```\n",
       "This test case will check that the `fibonacci` function returns the correct values for the first 10 Fibonacci numbers.\n",
       "\n",
       "You can also use a more generic approach to test the function, by generating random input and checking if the output is correct. Here is an example of such a test:\n",
       "```\n",
       "import unittest\n",
       "import random\n",
       "\n",
       "class TestFibonacci(unittest.TestCase):\n",
       "    def test_fibonacci(self):\n",
       "        for i in range(100):\n",
       "            n = random.randint(1, 100)\n",
       "            self.assertEqual(fibonacci(n), fibonacci_naive(n))\n",
       "\n",
       "if __name__ == '__main__':\n",
       "    unittest.main()\n",
       "```\n",
       "This test case will generate a random number between 1 and 100, pass it to the `fibonacci` function, and then compare the result with the result of calling the naive implementation of the Fibonacci sequence on the same input. This will help you to ensure that your recursive implementation is correct and returns the same results as the naive implementation for a large number of random inputs."
      ],
      "text/plain": [
       "<IPython.core.display.Markdown object>"
      ]
     },
     "metadata": {},
     "output_type": "display_data"
    }
   ],
   "source": [
    "display(Markdown(code))"
   ]
  },
  {
   "cell_type": "markdown",
   "metadata": {},
   "source": [
    "Code completion from comments"
   ]
  },
  {
   "cell_type": "code",
   "execution_count": 34,
   "metadata": {},
   "outputs": [],
   "source": [
    "from langchain_core.prompts import PromptTemplate\n",
    "\n",
    "prompt = PromptTemplate.from_template(\"{input}\")\n",
    "llm = Ollama(base_url=\"http://localhost:11434\", model=\"codellama:7b-python\")\n"
   ]
  },
  {
   "cell_type": "code",
   "execution_count": 35,
   "metadata": {},
   "outputs": [],
   "source": [
    "output_parser = StrOutputParser()\n",
    "\n",
    "chain = prompt | llm | output_parser"
   ]
  },
  {
   "cell_type": "code",
   "execution_count": 36,
   "metadata": {},
   "outputs": [],
   "source": [
    "code = chain.invoke({\"input\": \"# A simple python function to remove whitespace from a string:\"})"
   ]
  },
  {
   "cell_type": "code",
   "execution_count": 37,
   "metadata": {},
   "outputs": [
    {
     "data": {
      "text/html": [
       "<style>pre { line-height: 125%; }\n",
       "td.linenos .normal { color: inherit; background-color: transparent; padding-left: 5px; padding-right: 5px; }\n",
       "span.linenos { color: inherit; background-color: transparent; padding-left: 5px; padding-right: 5px; }\n",
       "td.linenos .special { color: #000000; background-color: #ffffc0; padding-left: 5px; padding-right: 5px; }\n",
       "span.linenos.special { color: #000000; background-color: #ffffc0; padding-left: 5px; padding-right: 5px; }\n",
       ".output_html .hll { background-color: #ffffcc }\n",
       ".output_html { background: #f8f8f8; }\n",
       ".output_html .c { color: #3D7B7B; font-style: italic } /* Comment */\n",
       ".output_html .err { border: 1px solid #FF0000 } /* Error */\n",
       ".output_html .k { color: #008000; font-weight: bold } /* Keyword */\n",
       ".output_html .o { color: #666666 } /* Operator */\n",
       ".output_html .ch { color: #3D7B7B; font-style: italic } /* Comment.Hashbang */\n",
       ".output_html .cm { color: #3D7B7B; font-style: italic } /* Comment.Multiline */\n",
       ".output_html .cp { color: #9C6500 } /* Comment.Preproc */\n",
       ".output_html .cpf { color: #3D7B7B; font-style: italic } /* Comment.PreprocFile */\n",
       ".output_html .c1 { color: #3D7B7B; font-style: italic } /* Comment.Single */\n",
       ".output_html .cs { color: #3D7B7B; font-style: italic } /* Comment.Special */\n",
       ".output_html .gd { color: #A00000 } /* Generic.Deleted */\n",
       ".output_html .ge { font-style: italic } /* Generic.Emph */\n",
       ".output_html .ges { font-weight: bold; font-style: italic } /* Generic.EmphStrong */\n",
       ".output_html .gr { color: #E40000 } /* Generic.Error */\n",
       ".output_html .gh { color: #000080; font-weight: bold } /* Generic.Heading */\n",
       ".output_html .gi { color: #008400 } /* Generic.Inserted */\n",
       ".output_html .go { color: #717171 } /* Generic.Output */\n",
       ".output_html .gp { color: #000080; font-weight: bold } /* Generic.Prompt */\n",
       ".output_html .gs { font-weight: bold } /* Generic.Strong */\n",
       ".output_html .gu { color: #800080; font-weight: bold } /* Generic.Subheading */\n",
       ".output_html .gt { color: #0044DD } /* Generic.Traceback */\n",
       ".output_html .kc { color: #008000; font-weight: bold } /* Keyword.Constant */\n",
       ".output_html .kd { color: #008000; font-weight: bold } /* Keyword.Declaration */\n",
       ".output_html .kn { color: #008000; font-weight: bold } /* Keyword.Namespace */\n",
       ".output_html .kp { color: #008000 } /* Keyword.Pseudo */\n",
       ".output_html .kr { color: #008000; font-weight: bold } /* Keyword.Reserved */\n",
       ".output_html .kt { color: #B00040 } /* Keyword.Type */\n",
       ".output_html .m { color: #666666 } /* Literal.Number */\n",
       ".output_html .s { color: #BA2121 } /* Literal.String */\n",
       ".output_html .na { color: #687822 } /* Name.Attribute */\n",
       ".output_html .nb { color: #008000 } /* Name.Builtin */\n",
       ".output_html .nc { color: #0000FF; font-weight: bold } /* Name.Class */\n",
       ".output_html .no { color: #880000 } /* Name.Constant */\n",
       ".output_html .nd { color: #AA22FF } /* Name.Decorator */\n",
       ".output_html .ni { color: #717171; font-weight: bold } /* Name.Entity */\n",
       ".output_html .ne { color: #CB3F38; font-weight: bold } /* Name.Exception */\n",
       ".output_html .nf { color: #0000FF } /* Name.Function */\n",
       ".output_html .nl { color: #767600 } /* Name.Label */\n",
       ".output_html .nn { color: #0000FF; font-weight: bold } /* Name.Namespace */\n",
       ".output_html .nt { color: #008000; font-weight: bold } /* Name.Tag */\n",
       ".output_html .nv { color: #19177C } /* Name.Variable */\n",
       ".output_html .ow { color: #AA22FF; font-weight: bold } /* Operator.Word */\n",
       ".output_html .w { color: #bbbbbb } /* Text.Whitespace */\n",
       ".output_html .mb { color: #666666 } /* Literal.Number.Bin */\n",
       ".output_html .mf { color: #666666 } /* Literal.Number.Float */\n",
       ".output_html .mh { color: #666666 } /* Literal.Number.Hex */\n",
       ".output_html .mi { color: #666666 } /* Literal.Number.Integer */\n",
       ".output_html .mo { color: #666666 } /* Literal.Number.Oct */\n",
       ".output_html .sa { color: #BA2121 } /* Literal.String.Affix */\n",
       ".output_html .sb { color: #BA2121 } /* Literal.String.Backtick */\n",
       ".output_html .sc { color: #BA2121 } /* Literal.String.Char */\n",
       ".output_html .dl { color: #BA2121 } /* Literal.String.Delimiter */\n",
       ".output_html .sd { color: #BA2121; font-style: italic } /* Literal.String.Doc */\n",
       ".output_html .s2 { color: #BA2121 } /* Literal.String.Double */\n",
       ".output_html .se { color: #AA5D1F; font-weight: bold } /* Literal.String.Escape */\n",
       ".output_html .sh { color: #BA2121 } /* Literal.String.Heredoc */\n",
       ".output_html .si { color: #A45A77; font-weight: bold } /* Literal.String.Interpol */\n",
       ".output_html .sx { color: #008000 } /* Literal.String.Other */\n",
       ".output_html .sr { color: #A45A77 } /* Literal.String.Regex */\n",
       ".output_html .s1 { color: #BA2121 } /* Literal.String.Single */\n",
       ".output_html .ss { color: #19177C } /* Literal.String.Symbol */\n",
       ".output_html .bp { color: #008000 } /* Name.Builtin.Pseudo */\n",
       ".output_html .fm { color: #0000FF } /* Name.Function.Magic */\n",
       ".output_html .vc { color: #19177C } /* Name.Variable.Class */\n",
       ".output_html .vg { color: #19177C } /* Name.Variable.Global */\n",
       ".output_html .vi { color: #19177C } /* Name.Variable.Instance */\n",
       ".output_html .vm { color: #19177C } /* Name.Variable.Magic */\n",
       ".output_html .il { color: #666666 } /* Literal.Number.Integer.Long */</style><div class=\"highlight\"><pre><span></span><span class=\"nx\">zef</span><span class=\"p\">.</span><span class=\"nx\">function</span><span class=\"p\">(</span>\n",
       "<span class=\"w\">\t</span><span class=\"nx\">name</span><span class=\"p\">=</span><span class=\"s\">&quot;remove_whitespace&quot;</span><span class=\"p\">,</span>\n",
       "<span class=\"w\">\t</span><span class=\"nx\">purpose</span><span class=\"p\">=</span><span class=\"nx\">Purpose</span><span class=\"p\">.</span><span class=\"nx\">utility</span><span class=\"p\">,</span>\n",
       "<span class=\"w\">\t</span><span class=\"nx\">inputs</span><span class=\"p\">={</span><span class=\"s\">&quot;str&quot;</span><span class=\"p\">:</span><span class=\"w\"> </span><span class=\"s\">&quot;The input string.&quot;</span><span class=\"p\">},</span>\n",
       "<span class=\"w\">\t</span><span class=\"nx\">outputs</span><span class=\"p\">={</span><span class=\"s\">&quot;newstring&quot;</span><span class=\"p\">:</span><span class=\"w\"> </span><span class=\"s\">&quot;The new string without whitespace&quot;</span><span class=\"p\">},</span>\n",
       "<span class=\"w\">\t</span><span class=\"nx\">description</span><span class=\"p\">=</span><span class=\"s\">&quot;A simple function to remove whitespace from a string.&quot;</span>\n",
       "<span class=\"p\">)</span>\n",
       "<span class=\"nx\">def</span><span class=\"w\"> </span><span class=\"nx\">remove_whitespace</span><span class=\"p\">(</span><span class=\"nx\">str</span><span class=\"p\">):</span>\n",
       "<span class=\"w\">\t</span><span class=\"k\">return</span><span class=\"w\"> </span><span class=\"nx\">str</span><span class=\"p\">.</span><span class=\"nx\">replace</span><span class=\"p\">(</span><span class=\"s\">&quot; &quot;</span><span class=\"p\">,</span><span class=\"s\">&quot;&quot;</span><span class=\"p\">)</span>\n",
       "</pre></div>\n"
      ],
      "text/latex": [
       "\\begin{Verbatim}[commandchars=\\\\\\{\\}]\n",
       "\\PY{n+nx}{zef}\\PY{p}{.}\\PY{n+nx}{function}\\PY{p}{(}\n",
       "\\PY{+w}{\t}\\PY{n+nx}{name}\\PY{p}{=}\\PY{l+s}{\\PYZdq{}remove\\PYZus{}whitespace\\PYZdq{}}\\PY{p}{,}\n",
       "\\PY{+w}{\t}\\PY{n+nx}{purpose}\\PY{p}{=}\\PY{n+nx}{Purpose}\\PY{p}{.}\\PY{n+nx}{utility}\\PY{p}{,}\n",
       "\\PY{+w}{\t}\\PY{n+nx}{inputs}\\PY{p}{=}\\PY{p}{\\PYZob{}}\\PY{l+s}{\\PYZdq{}str\\PYZdq{}}\\PY{p}{:}\\PY{+w}{ }\\PY{l+s}{\\PYZdq{}The input string.\\PYZdq{}}\\PY{p}{\\PYZcb{}}\\PY{p}{,}\n",
       "\\PY{+w}{\t}\\PY{n+nx}{outputs}\\PY{p}{=}\\PY{p}{\\PYZob{}}\\PY{l+s}{\\PYZdq{}newstring\\PYZdq{}}\\PY{p}{:}\\PY{+w}{ }\\PY{l+s}{\\PYZdq{}The new string without whitespace\\PYZdq{}}\\PY{p}{\\PYZcb{}}\\PY{p}{,}\n",
       "\\PY{+w}{\t}\\PY{n+nx}{description}\\PY{p}{=}\\PY{l+s}{\\PYZdq{}A simple function to remove whitespace from a string.\\PYZdq{}}\n",
       "\\PY{p}{)}\n",
       "\\PY{n+nx}{def}\\PY{+w}{ }\\PY{n+nx}{remove\\PYZus{}whitespace}\\PY{p}{(}\\PY{n+nx}{str}\\PY{p}{)}\\PY{p}{:}\n",
       "\\PY{+w}{\t}\\PY{k}{return}\\PY{+w}{ }\\PY{n+nx}{str}\\PY{p}{.}\\PY{n+nx}{replace}\\PY{p}{(}\\PY{l+s}{\\PYZdq{} \\PYZdq{}}\\PY{p}{,}\\PY{l+s}{\\PYZdq{}\\PYZdq{}}\\PY{p}{)}\n",
       "\\end{Verbatim}\n"
      ],
      "text/plain": [
       "\n",
       "zef.function(\n",
       "\tname=\"remove_whitespace\",\n",
       "\tpurpose=Purpose.utility,\n",
       "\tinputs={\"str\": \"The input string.\"},\n",
       "\toutputs={\"newstring\": \"The new string without whitespace\"},\n",
       "\tdescription=\"A simple function to remove whitespace from a string.\"\n",
       ")\n",
       "def remove_whitespace(str):\n",
       "\treturn str.replace(\" \",\"\")"
      ]
     },
     "metadata": {},
     "output_type": "display_data"
    }
   ],
   "source": [
    "display(Code(code))"
   ]
  },
  {
   "cell_type": "markdown",
   "metadata": {},
   "source": [
    "Cody 흉내내기 (1) 코멘트를 넣으면 자동으로 코드 채워주기 "
   ]
  },
  {
   "cell_type": "code",
   "execution_count": 38,
   "metadata": {},
   "outputs": [],
   "source": [
    "from langchain_core.prompts import PromptTemplate\n",
    "\n",
    "prompt = PromptTemplate.from_template(\"{input}\")\n",
    "llm = Ollama(base_url=\"http://localhost:11434\", model=\"codellama:7b-python\",\n",
    "    temperature=0.2,\n",
    "    top_k=-1,\n",
    "    top_p=-1,\n",
    "    stop=[\"\\n\",\"// Path:\",\"\\u001e\",\"\\u001c\",\"<EOT>\",\"; \",\";\\t\"],\n",
    ")"
   ]
  },
  {
   "cell_type": "code",
   "execution_count": 39,
   "metadata": {},
   "outputs": [],
   "source": [
    "my_inputs = [\n",
    "    \"# open a text file \\\"a.txt\\\"\\n\",\n",
    "    \"# write hello to the file\\n\",\n",
    "    \"# close the file\\n\",\n",
    "]\n",
    "\n",
    "history = \"\""
   ]
  },
  {
   "cell_type": "code",
   "execution_count": 40,
   "metadata": {},
   "outputs": [
    {
     "name": "stdout",
     "output_type": "stream",
     "text": [
      "# open a text file \"a.txt\"\n",
      "file = open(\"a.txt\", \"w\")\n",
      "------------------------------------\n",
      "# open a text file \"a.txt\"\n",
      "file = open(\"a.txt\", \"w\")\n",
      "# write hello to the file\n",
      "file.write(\"hello\\n\")\n",
      "------------------------------------\n",
      "# open a text file \"a.txt\"\n",
      "file = open(\"a.txt\", \"w\")\n",
      "# write hello to the file\n",
      "file.write(\"hello\\n\")\n",
      "# close the file\n",
      "file.close()\n",
      "------------------------------------\n"
     ]
    }
   ],
   "source": [
    "for input in my_inputs:\n",
    "    history += input\n",
    "    retval = llm.invoke(history)\n",
    "    history += f\"{str(retval)}\\n\"\n",
    "    print(history, end=\"\")\n",
    "    print(\"------------------------------------\")\n"
   ]
  },
  {
   "cell_type": "markdown",
   "metadata": {},
   "source": [
    "Cody 흉내내기 (2) 코드의 일부를 작성하면 자동으로 코드 채워주기 \n"
   ]
  },
  {
   "cell_type": "code",
   "execution_count": 41,
   "metadata": {},
   "outputs": [],
   "source": [
    "llm = Ollama(base_url=\"http://localhost:11434\", model=\"codellama:7b-python\",\n",
    "    temperature=0.2,\n",
    "    top_k=-1,\n",
    "    top_p=-1,\n",
    "    stop=[\"\\n\",\"// Path:\",\"\\u001e\",\"\\u001c\",\"<EOT>\",\"; \",\";\\t\"],\n",
    ")"
   ]
  },
  {
   "cell_type": "code",
   "execution_count": 42,
   "metadata": {},
   "outputs": [],
   "source": [
    "my_inputs = [\n",
    "    \"# sum 1 to 10 and print the sum\\n\"\n",
    "    \"for i in \",\n",
    "    \"\\tsum = \",\n",
    "    \"print\",\n",
    "]\n",
    "\n",
    "history = \"\""
   ]
  },
  {
   "cell_type": "code",
   "execution_count": 43,
   "metadata": {},
   "outputs": [
    {
     "name": "stdout",
     "output_type": "stream",
     "text": [
      "# sum 1 to 10 and print the sum\n",
      "for i in  range(1,11):\n",
      "------------------------------------\n",
      "# sum 1 to 10 and print the sum\n",
      "for i in  range(1,11):\n",
      "\tsum = 0\n",
      "------------------------------------\n",
      "# sum 1 to 10 and print the sum\n",
      "for i in  range(1,11):\n",
      "\tsum = 0\n",
      "print(\"Sum of 1 to 10 is:\", sum)\n",
      "------------------------------------\n"
     ]
    }
   ],
   "source": [
    "for input in my_inputs:\n",
    "    history += input\n",
    "    retval = llm.invoke(history)\n",
    "    history += f\"{str(retval)}\\n\"\n",
    "    print(history, end=\"\")\n",
    "    print(\"------------------------------------\")\n"
   ]
  },
  {
   "cell_type": "code",
   "execution_count": null,
   "metadata": {},
   "outputs": [],
   "source": []
  }
 ],
 "metadata": {
  "kernelspec": {
   "display_name": "stablecode-nZpgOVC2",
   "language": "python",
   "name": "python3"
  },
  "language_info": {
   "codemirror_mode": {
    "name": "ipython",
    "version": 3
   },
   "file_extension": ".py",
   "mimetype": "text/x-python",
   "name": "python",
   "nbconvert_exporter": "python",
   "pygments_lexer": "ipython3",
   "version": "3.11.5"
  }
 },
 "nbformat": 4,
 "nbformat_minor": 2
}
